{
 "cells": [
  {
   "cell_type": "code",
   "execution_count": 1,
   "metadata": {},
   "outputs": [],
   "source": [
    "import os"
   ]
  },
  {
   "cell_type": "code",
   "execution_count": 8,
   "metadata": {},
   "outputs": [],
   "source": [
    "jss = []\n",
    "list_of_dfs = []\n",
    "\n",
    "for js in os.listdir('data/tweets/'):\n",
    "    tweets_path = 'data/tweets/' + js\n",
    "\n",
    "    with open(tweets_path) as dataFile:\n",
    "        data = dataFile.read()\n",
    "        obj = data[data.find('{') : data.rfind('}')+1]\n",
    "\n",
    "    raw_tweets = obj.split('\\n}, {\\n')\n",
    "\n",
    "    tweets_json = []\n",
    "\n",
    "    # Loading first and last raw tweet.\n",
    "    tweets_json.append(json.loads(raw_tweets[0] + '}'))\n",
    "    tweets_json.append(json.loads('{' + raw_tweets[-1]))\n",
    "\n",
    "    # Loading every other tweet.\n",
    "    for raw_tweet in raw_tweets[1:len(raw_tweets)-1]:\n",
    "        tweet = json.loads('{' + raw_tweet + '\\n}')\n",
    "        tweets_json.append(tweet)\n",
    "\n",
    "    tweets = pd.DataFrame()\n",
    "\n",
    "    # Getting timestamp of the tweet! Here we convert the string into datetime and change its timezone from UTC to BRT. \n",
    "    date_format = '%a %b %d %H:%M:%S %z %Y'\n",
    "    tweets.loc[:,'created_at'] = [datetime.strptime(tweet['created_at'], date_format).astimezone(pytz.timezone('America/Sao_Paulo')) for tweet in tweets_json]\n",
    "\n",
    "    # Mobile? Desktop? Let's check that!\n",
    "    tweets.loc[:,'source'] = [tweet['source'] for tweet in tweets_json]\n",
    "\n",
    "    # Favorited or retweeted? How many times?\n",
    "    tweets.loc[:,'favorited'] = [tweet['favorited'] for tweet in tweets_json]\n",
    "    tweets.loc[:,'retweeted'] = [tweet['retweeted'] for tweet in tweets_json]\n",
    "    tweets.loc[:,'favorite_count'] = pd.Series([tweet['favorite_count'] for tweet in tweets_json]).astype(int)\n",
    "    tweets.loc[:,'retweet_count'] = pd.Series([tweet['retweet_count'] for tweet in tweets_json]).astype(int)\n",
    "\n",
    "    # And what I tweeted? \n",
    "    tweets.loc[:,'full_text'] = [tweet['full_text'] for tweet in tweets_json]\n",
    "\n",
    "    # If it is a reply, who he/she is?\n",
    "    tweets.loc[:,'in_reply_to_screen_name'] = [tweet['in_reply_to_screen_name'] if 'in_reply_to_screen_name' in tweet else np.NaN for tweet in tweets_json]\n",
    "\n",
    "    # Sorting by created at timestamp\n",
    "    tweets = tweets.sort_values('created_at').reset_index(drop=True)\n",
    "\n",
    "    # Just giving it a unique ID\n",
    "    tweets.loc[:,'tweet_id'] = np.arange(0, tweets.shape[0])\n",
    "\n",
    "    list_of_dfs = list_of_dfs.append(tweets)\n",
    "    \n",
    "tweets = pd.concat(list_of_dfs)"
   ]
  }
 ],
 "metadata": {
  "kernelspec": {
   "display_name": "Python 3",
   "language": "python",
   "name": "python3"
  },
  "language_info": {
   "codemirror_mode": {
    "name": "ipython",
    "version": 3
   },
   "file_extension": ".py",
   "mimetype": "text/x-python",
   "name": "python",
   "nbconvert_exporter": "python",
   "pygments_lexer": "ipython3",
   "version": "3.7.1"
  }
 },
 "nbformat": 4,
 "nbformat_minor": 2
}

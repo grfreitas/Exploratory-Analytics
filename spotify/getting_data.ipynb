{
 "cells": [
  {
   "cell_type": "markdown",
   "metadata": {},
   "source": [
    "# Spotify Musical Analysis - Data Wrangling "
   ]
  },
  {
   "cell_type": "markdown",
   "metadata": {},
   "source": [
    "### Initial Imports and Pre-Settings "
   ]
  },
  {
   "cell_type": "code",
   "execution_count": 2,
   "metadata": {},
   "outputs": [],
   "source": [
    "import os\n",
    "import json\n",
    "import requests\n",
    "\n",
    "import pandas as pd"
   ]
  },
  {
   "cell_type": "markdown",
   "metadata": {},
   "source": [
    "### Reading Saved Songs Data "
   ]
  },
  {
   "cell_type": "code",
   "execution_count": 3,
   "metadata": {},
   "outputs": [],
   "source": [
    "CLIENT_TOKEN = os.environ['spotify_token']"
   ]
  },
  {
   "cell_type": "code",
   "execution_count": 11,
   "metadata": {},
   "outputs": [],
   "source": [
    "URL = 'https://api.spotify.com/v1/me/tracks?offset=0&limit=50'\n",
    "HEADERS = {'Authorization': 'Bearer ' + CLIENT_TOKEN}\n",
    "PARAMS = {'limit': 50}"
   ]
  },
  {
   "cell_type": "code",
   "execution_count": 12,
   "metadata": {},
   "outputs": [
    {
     "name": "stdout",
     "output_type": "stream",
     "text": [
      "Request on https://api.spotify.com/v1/me/tracks?offset=50&limit=50 successful\n",
      "Request on https://api.spotify.com/v1/me/tracks?offset=100&limit=50 successful\n",
      "Request on https://api.spotify.com/v1/me/tracks?offset=150&limit=50 successful\n",
      "Request on https://api.spotify.com/v1/me/tracks?offset=200&limit=50 successful\n",
      "Request on https://api.spotify.com/v1/me/tracks?offset=250&limit=50 successful\n",
      "Request on https://api.spotify.com/v1/me/tracks?offset=300&limit=50 successful\n",
      "Request on https://api.spotify.com/v1/me/tracks?offset=350&limit=50 successful\n",
      "Request on https://api.spotify.com/v1/me/tracks?offset=400&limit=50 successful\n",
      "Request on https://api.spotify.com/v1/me/tracks?offset=450&limit=50 successful\n",
      "Request on https://api.spotify.com/v1/me/tracks?offset=500&limit=50 successful\n",
      "Request on https://api.spotify.com/v1/me/tracks?offset=550&limit=50 successful\n",
      "Request on https://api.spotify.com/v1/me/tracks?offset=600&limit=50 successful\n",
      "Request on https://api.spotify.com/v1/me/tracks?offset=650&limit=50 successful\n",
      "Request on https://api.spotify.com/v1/me/tracks?offset=700&limit=50 successful\n",
      "Request on https://api.spotify.com/v1/me/tracks?offset=750&limit=50 successful\n",
      "Request on https://api.spotify.com/v1/me/tracks?offset=800&limit=50 successful\n",
      "Request on https://api.spotify.com/v1/me/tracks?offset=850&limit=50 successful\n",
      "Request on https://api.spotify.com/v1/me/tracks?offset=900&limit=50 successful\n",
      "Request on https://api.spotify.com/v1/me/tracks?offset=950&limit=50 successful\n",
      "Request on https://api.spotify.com/v1/me/tracks?offset=1000&limit=50 successful\n",
      "Request on https://api.spotify.com/v1/me/tracks?offset=1050&limit=50 successful\n",
      "Request on https://api.spotify.com/v1/me/tracks?offset=1100&limit=50 successful\n",
      "Request on https://api.spotify.com/v1/me/tracks?offset=1150&limit=50 successful\n",
      "Request on https://api.spotify.com/v1/me/tracks?offset=1200&limit=50 successful\n",
      "Request on https://api.spotify.com/v1/me/tracks?offset=1250&limit=50 successful\n",
      "Request on https://api.spotify.com/v1/me/tracks?offset=1300&limit=50 successful\n",
      "Request on https://api.spotify.com/v1/me/tracks?offset=1350&limit=50 successful\n",
      "Request on https://api.spotify.com/v1/me/tracks?offset=1400&limit=50 successful\n"
     ]
    }
   ],
   "source": [
    "r = requests.get(url=URL, headers=HEADERS, params=PARAMS)\n",
    "response, data = r.status_code, r.json()\n",
    "\n",
    "if response == 200:\n",
    "    all_data = [data]\n",
    "    while data['next']:\n",
    "        URL = data['next']\n",
    "        r = requests.get(url=URL, headers=HEADERS, params=PARAMS)\n",
    "        response, data = r.status_code, r.json()\n",
    "        if response == 200:\n",
    "            all_data.append(data)\n",
    "            print('Request on {url} successful'.format(url=URL))\n",
    "        else:\n",
    "            print('Failed request on {url}'.format(url=URL))\n",
    "            break\n",
    "else:\n",
    "    print('Error', response)"
   ]
  },
  {
   "cell_type": "markdown",
   "metadata": {},
   "source": [
    "### Transforming into columnar "
   ]
  },
  {
   "cell_type": "code",
   "execution_count": 13,
   "metadata": {},
   "outputs": [],
   "source": [
    "frames = []\n",
    "for data in all_data:\n",
    "    frame = pd.DataFrame(data['items'])\n",
    "    frames.append(frame)\n",
    "songs = pd.concat(frames)"
   ]
  },
  {
   "cell_type": "code",
   "execution_count": 14,
   "metadata": {},
   "outputs": [],
   "source": [
    "cols_to_keep = [\n",
    "    'id',\n",
    "    'name',\n",
    "    'artists',\n",
    "    'duration_ms',\n",
    "    'popularity',\n",
    "]"
   ]
  },
  {
   "cell_type": "code",
   "execution_count": 15,
   "metadata": {},
   "outputs": [],
   "source": [
    "for col in cols_to_keep:\n",
    "    songs.loc[:, col] = songs.track.apply(lambda x: x[col])\n",
    "\n",
    "songs.loc[:, 'artists_ids'] = songs.artists.apply(lambda x: [i['id'] for i in x])\n",
    "songs.drop(['track', 'artists'], axis=1, inplace=True)"
   ]
  },
  {
   "cell_type": "code",
   "execution_count": 16,
   "metadata": {},
   "outputs": [
    {
     "data": {
      "text/html": [
       "<div>\n",
       "<style scoped>\n",
       "    .dataframe tbody tr th:only-of-type {\n",
       "        vertical-align: middle;\n",
       "    }\n",
       "\n",
       "    .dataframe tbody tr th {\n",
       "        vertical-align: top;\n",
       "    }\n",
       "\n",
       "    .dataframe thead th {\n",
       "        text-align: right;\n",
       "    }\n",
       "</style>\n",
       "<table border=\"1\" class=\"dataframe\">\n",
       "  <thead>\n",
       "    <tr style=\"text-align: right;\">\n",
       "      <th></th>\n",
       "      <th>added_at</th>\n",
       "      <th>id</th>\n",
       "      <th>name</th>\n",
       "      <th>duration_ms</th>\n",
       "      <th>popularity</th>\n",
       "      <th>artists_ids</th>\n",
       "    </tr>\n",
       "  </thead>\n",
       "  <tbody>\n",
       "    <tr>\n",
       "      <th>0</th>\n",
       "      <td>2019-09-28T00:48:35Z</td>\n",
       "      <td>4TIONK6tnZWlNl5HdKpWby</td>\n",
       "      <td>Dondante</td>\n",
       "      <td>479306</td>\n",
       "      <td>45</td>\n",
       "      <td>[43O3c6wewpzPKwVaGEEtBM]</td>\n",
       "    </tr>\n",
       "    <tr>\n",
       "      <th>1</th>\n",
       "      <td>2019-09-28T00:21:47Z</td>\n",
       "      <td>6ZDk3PGFkRKGgk6aSkw2T9</td>\n",
       "      <td>A Fine Way to Die</td>\n",
       "      <td>400982</td>\n",
       "      <td>49</td>\n",
       "      <td>[25oLRSUjJk4YHNUsQXk7Ut, 2twGthIPnZl1icD7K2jXx3]</td>\n",
       "    </tr>\n",
       "    <tr>\n",
       "      <th>2</th>\n",
       "      <td>2019-09-26T18:00:50Z</td>\n",
       "      <td>36xZeDLfY3pSGZdQadvEvd</td>\n",
       "      <td>Vermelho</td>\n",
       "      <td>302280</td>\n",
       "      <td>42</td>\n",
       "      <td>[2HubQ6TEbD7HknCNrBsqhR]</td>\n",
       "    </tr>\n",
       "    <tr>\n",
       "      <th>3</th>\n",
       "      <td>2019-09-26T17:06:12Z</td>\n",
       "      <td>23kqlWwszJs8NRFkCQ5L5U</td>\n",
       "      <td>Ensaio Sobre Ela</td>\n",
       "      <td>238664</td>\n",
       "      <td>50</td>\n",
       "      <td>[6a5wUPC879Kyfw0aXxVatB]</td>\n",
       "    </tr>\n",
       "    <tr>\n",
       "      <th>4</th>\n",
       "      <td>2019-09-26T15:30:48Z</td>\n",
       "      <td>6g0o3FK5GqsjPV488bBtDj</td>\n",
       "      <td>Dinossauros</td>\n",
       "      <td>266546</td>\n",
       "      <td>46</td>\n",
       "      <td>[3pnpaEYzaDj5zJluhXbVrG]</td>\n",
       "    </tr>\n",
       "  </tbody>\n",
       "</table>\n",
       "</div>"
      ],
      "text/plain": [
       "               added_at                      id               name  \\\n",
       "0  2019-09-28T00:48:35Z  4TIONK6tnZWlNl5HdKpWby           Dondante   \n",
       "1  2019-09-28T00:21:47Z  6ZDk3PGFkRKGgk6aSkw2T9  A Fine Way to Die   \n",
       "2  2019-09-26T18:00:50Z  36xZeDLfY3pSGZdQadvEvd           Vermelho   \n",
       "3  2019-09-26T17:06:12Z  23kqlWwszJs8NRFkCQ5L5U   Ensaio Sobre Ela   \n",
       "4  2019-09-26T15:30:48Z  6g0o3FK5GqsjPV488bBtDj        Dinossauros   \n",
       "\n",
       "   duration_ms  popularity                                       artists_ids  \n",
       "0       479306          45                          [43O3c6wewpzPKwVaGEEtBM]  \n",
       "1       400982          49  [25oLRSUjJk4YHNUsQXk7Ut, 2twGthIPnZl1icD7K2jXx3]  \n",
       "2       302280          42                          [2HubQ6TEbD7HknCNrBsqhR]  \n",
       "3       238664          50                          [6a5wUPC879Kyfw0aXxVatB]  \n",
       "4       266546          46                          [3pnpaEYzaDj5zJluhXbVrG]  "
      ]
     },
     "execution_count": 16,
     "metadata": {},
     "output_type": "execute_result"
    }
   ],
   "source": [
    "songs.head()"
   ]
  },
  {
   "cell_type": "markdown",
   "metadata": {},
   "source": [
    "Now we need to get artists infos, such as genre and popularity."
   ]
  },
  {
   "cell_type": "code",
   "execution_count": 29,
   "metadata": {},
   "outputs": [],
   "source": [
    "unique_artists_ids = list(set(songs.artists_ids.sum()))"
   ]
  },
  {
   "cell_type": "code",
   "execution_count": null,
   "metadata": {},
   "outputs": [],
   "source": [
    "frames = []\n",
    "\n",
    "for artist_id in unique_artists_ids:\n",
    "\n",
    "    URL = 'https://api.spotify.com/v1/artists/{0}'.format(artist_id)\n",
    "    PARAMS = {'id': artist_id}\n",
    "\n",
    "    r = requests.get(url=URL, headers=HEADERS)\n",
    "    response, data = r.status_code, r.json()\n",
    "\n",
    "    if response == 200:\n",
    "        frame = pd.DataFrame([[data['id'], data['name'], data['genres'], data['popularity']]])\n",
    "        frames.append(frame)\n",
    "    else:\n",
    "        print('Request failed at artist {}'.format(artist_id))"
   ]
  },
  {
   "cell_type": "code",
   "execution_count": 27,
   "metadata": {},
   "outputs": [
    {
     "data": {
      "text/plain": [
       "{'external_urls': {'spotify': 'https://open.spotify.com/artist/6BIQO80XQtgE0ueJ1jRmBH'},\n",
       " 'followers': {'href': None, 'total': 125},\n",
       " 'genres': [],\n",
       " 'href': 'https://api.spotify.com/v1/artists/6BIQO80XQtgE0ueJ1jRmBH',\n",
       " 'id': '6BIQO80XQtgE0ueJ1jRmBH',\n",
       " 'images': [],\n",
       " 'name': 'Nick Allbrook',\n",
       " 'popularity': 7,\n",
       " 'type': 'artist',\n",
       " 'uri': 'spotify:artist:6BIQO80XQtgE0ueJ1jRmBH'}"
      ]
     },
     "execution_count": 27,
     "metadata": {},
     "output_type": "execute_result"
    }
   ],
   "source": [
    "data"
   ]
  },
  {
   "cell_type": "code",
   "execution_count": 19,
   "metadata": {},
   "outputs": [],
   "source": [
    "artists = pd.concat(frames)"
   ]
  },
  {
   "cell_type": "code",
   "execution_count": 32,
   "metadata": {},
   "outputs": [
    {
     "ename": "ValueError",
     "evalue": "Length mismatch: Expected axis has 3 elements, new values have 4 elements",
     "output_type": "error",
     "traceback": [
      "\u001b[0;31m---------------------------------------------------------------------------\u001b[0m",
      "\u001b[0;31mValueError\u001b[0m                                Traceback (most recent call last)",
      "\u001b[0;32m<ipython-input-32-2201015d359a>\u001b[0m in \u001b[0;36m<module>\u001b[0;34m\u001b[0m\n\u001b[0;32m----> 1\u001b[0;31m \u001b[0martists\u001b[0m\u001b[0;34m.\u001b[0m\u001b[0mcolumns\u001b[0m \u001b[0;34m=\u001b[0m \u001b[0;34m[\u001b[0m\u001b[0;34m'artist_id'\u001b[0m\u001b[0;34m,\u001b[0m \u001b[0;34m'artist_name'\u001b[0m\u001b[0;34m,\u001b[0m \u001b[0;34m'genres'\u001b[0m\u001b[0;34m,\u001b[0m \u001b[0;34m'artist_popularity'\u001b[0m\u001b[0;34m]\u001b[0m\u001b[0;34m\u001b[0m\u001b[0;34m\u001b[0m\u001b[0m\n\u001b[0m",
      "\u001b[0;32m~/.local/lib/python3.6/site-packages/pandas/core/generic.py\u001b[0m in \u001b[0;36m__setattr__\u001b[0;34m(self, name, value)\u001b[0m\n\u001b[1;32m   5078\u001b[0m         \u001b[0;32mtry\u001b[0m\u001b[0;34m:\u001b[0m\u001b[0;34m\u001b[0m\u001b[0;34m\u001b[0m\u001b[0m\n\u001b[1;32m   5079\u001b[0m             \u001b[0mobject\u001b[0m\u001b[0;34m.\u001b[0m\u001b[0m__getattribute__\u001b[0m\u001b[0;34m(\u001b[0m\u001b[0mself\u001b[0m\u001b[0;34m,\u001b[0m \u001b[0mname\u001b[0m\u001b[0;34m)\u001b[0m\u001b[0;34m\u001b[0m\u001b[0;34m\u001b[0m\u001b[0m\n\u001b[0;32m-> 5080\u001b[0;31m             \u001b[0;32mreturn\u001b[0m \u001b[0mobject\u001b[0m\u001b[0;34m.\u001b[0m\u001b[0m__setattr__\u001b[0m\u001b[0;34m(\u001b[0m\u001b[0mself\u001b[0m\u001b[0;34m,\u001b[0m \u001b[0mname\u001b[0m\u001b[0;34m,\u001b[0m \u001b[0mvalue\u001b[0m\u001b[0;34m)\u001b[0m\u001b[0;34m\u001b[0m\u001b[0;34m\u001b[0m\u001b[0m\n\u001b[0m\u001b[1;32m   5081\u001b[0m         \u001b[0;32mexcept\u001b[0m \u001b[0mAttributeError\u001b[0m\u001b[0;34m:\u001b[0m\u001b[0;34m\u001b[0m\u001b[0;34m\u001b[0m\u001b[0m\n\u001b[1;32m   5082\u001b[0m             \u001b[0;32mpass\u001b[0m\u001b[0;34m\u001b[0m\u001b[0;34m\u001b[0m\u001b[0m\n",
      "\u001b[0;32mpandas/_libs/properties.pyx\u001b[0m in \u001b[0;36mpandas._libs.properties.AxisProperty.__set__\u001b[0;34m()\u001b[0m\n",
      "\u001b[0;32m~/.local/lib/python3.6/site-packages/pandas/core/generic.py\u001b[0m in \u001b[0;36m_set_axis\u001b[0;34m(self, axis, labels)\u001b[0m\n\u001b[1;32m    636\u001b[0m \u001b[0;34m\u001b[0m\u001b[0m\n\u001b[1;32m    637\u001b[0m     \u001b[0;32mdef\u001b[0m \u001b[0m_set_axis\u001b[0m\u001b[0;34m(\u001b[0m\u001b[0mself\u001b[0m\u001b[0;34m,\u001b[0m \u001b[0maxis\u001b[0m\u001b[0;34m,\u001b[0m \u001b[0mlabels\u001b[0m\u001b[0;34m)\u001b[0m\u001b[0;34m:\u001b[0m\u001b[0;34m\u001b[0m\u001b[0;34m\u001b[0m\u001b[0m\n\u001b[0;32m--> 638\u001b[0;31m         \u001b[0mself\u001b[0m\u001b[0;34m.\u001b[0m\u001b[0m_data\u001b[0m\u001b[0;34m.\u001b[0m\u001b[0mset_axis\u001b[0m\u001b[0;34m(\u001b[0m\u001b[0maxis\u001b[0m\u001b[0;34m,\u001b[0m \u001b[0mlabels\u001b[0m\u001b[0;34m)\u001b[0m\u001b[0;34m\u001b[0m\u001b[0;34m\u001b[0m\u001b[0m\n\u001b[0m\u001b[1;32m    639\u001b[0m         \u001b[0mself\u001b[0m\u001b[0;34m.\u001b[0m\u001b[0m_clear_item_cache\u001b[0m\u001b[0;34m(\u001b[0m\u001b[0;34m)\u001b[0m\u001b[0;34m\u001b[0m\u001b[0;34m\u001b[0m\u001b[0m\n\u001b[1;32m    640\u001b[0m \u001b[0;34m\u001b[0m\u001b[0m\n",
      "\u001b[0;32m~/.local/lib/python3.6/site-packages/pandas/core/internals/managers.py\u001b[0m in \u001b[0;36mset_axis\u001b[0;34m(self, axis, new_labels)\u001b[0m\n\u001b[1;32m    153\u001b[0m             raise ValueError(\n\u001b[1;32m    154\u001b[0m                 \u001b[0;34m'Length mismatch: Expected axis has {old} elements, new '\u001b[0m\u001b[0;34m\u001b[0m\u001b[0;34m\u001b[0m\u001b[0m\n\u001b[0;32m--> 155\u001b[0;31m                 'values have {new} elements'.format(old=old_len, new=new_len))\n\u001b[0m\u001b[1;32m    156\u001b[0m \u001b[0;34m\u001b[0m\u001b[0m\n\u001b[1;32m    157\u001b[0m         \u001b[0mself\u001b[0m\u001b[0;34m.\u001b[0m\u001b[0maxes\u001b[0m\u001b[0;34m[\u001b[0m\u001b[0maxis\u001b[0m\u001b[0;34m]\u001b[0m \u001b[0;34m=\u001b[0m \u001b[0mnew_labels\u001b[0m\u001b[0;34m\u001b[0m\u001b[0;34m\u001b[0m\u001b[0m\n",
      "\u001b[0;31mValueError\u001b[0m: Length mismatch: Expected axis has 3 elements, new values have 4 elements"
     ]
    }
   ],
   "source": [
    "artists.columns = ['artist_id', 'artist_name', 'genres', 'artist_popularity']"
   ]
  },
  {
   "cell_type": "code",
   "execution_count": 23,
   "metadata": {},
   "outputs": [],
   "source": [
    "songs.columns = ['added_at', 'song_id', 'song_name', 'duration_ms', 'song_popularity', 'artists_ids']"
   ]
  },
  {
   "cell_type": "code",
   "execution_count": 25,
   "metadata": {},
   "outputs": [],
   "source": [
    "songs.to_csv('saved_songs.csv', sep='\\t', index=False)\n",
    "artists.to_csv('artists_infos.csv', sep='\\t', index=False)"
   ]
  },
  {
   "cell_type": "code",
   "execution_count": null,
   "metadata": {},
   "outputs": [],
   "source": []
  }
 ],
 "metadata": {
  "kernelspec": {
   "display_name": "Python 3",
   "language": "python",
   "name": "python3"
  },
  "language_info": {
   "codemirror_mode": {
    "name": "ipython",
    "version": 3
   },
   "file_extension": ".py",
   "mimetype": "text/x-python",
   "name": "python",
   "nbconvert_exporter": "python",
   "pygments_lexer": "ipython3",
   "version": "3.6.8"
  }
 },
 "nbformat": 4,
 "nbformat_minor": 2
}
